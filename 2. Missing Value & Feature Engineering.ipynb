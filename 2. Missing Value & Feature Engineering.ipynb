{
 "cells": [
  {
   "cell_type": "markdown",
   "id": "85b8f885",
   "metadata": {},
   "source": [
    "# EDA : Handle Missing Value"
   ]
  },
  {
   "cell_type": "code",
   "execution_count": 191,
   "id": "1396fd79",
   "metadata": {},
   "outputs": [],
   "source": [
    "# 결측치 처리 : 결측치 처리는 train / test를 함께 처리 그러나 test셋에서 y값을 모르므로 train셋만 가지고 판단!"
   ]
  },
  {
   "cell_type": "code",
   "execution_count": 192,
   "id": "9d4bc97d",
   "metadata": {},
   "outputs": [
    {
     "name": "stdout",
     "output_type": "stream",
     "text": [
      "(3316, 19)\n"
     ]
    }
   ],
   "source": [
    "Miss_Handle_df = train_df.copy()\n",
    "print(Miss_Handle_df.shape)"
   ]
  },
  {
   "cell_type": "code",
   "execution_count": 193,
   "id": "7b8cb763",
   "metadata": {},
   "outputs": [
    {
     "data": {
      "text/html": [
       "<div>\n",
       "<style scoped>\n",
       "    .dataframe tbody tr th:only-of-type {\n",
       "        vertical-align: middle;\n",
       "    }\n",
       "\n",
       "    .dataframe tbody tr th {\n",
       "        vertical-align: top;\n",
       "    }\n",
       "\n",
       "    .dataframe thead th {\n",
       "        text-align: right;\n",
       "    }\n",
       "</style>\n",
       "<table border=\"1\" class=\"dataframe\">\n",
       "  <thead>\n",
       "    <tr style=\"text-align: right;\">\n",
       "      <th></th>\n",
       "      <th>Total</th>\n",
       "      <th>Prob</th>\n",
       "    </tr>\n",
       "  </thead>\n",
       "  <tbody>\n",
       "    <tr>\n",
       "      <th>TotalHours</th>\n",
       "      <td>57</td>\n",
       "      <td>0.017189</td>\n",
       "    </tr>\n",
       "    <tr>\n",
       "      <th>HoursPerWeek</th>\n",
       "      <td>56</td>\n",
       "      <td>0.016888</td>\n",
       "    </tr>\n",
       "  </tbody>\n",
       "</table>\n",
       "</div>"
      ],
      "text/plain": [
       "              Total      Prob\n",
       "TotalHours       57  0.017189\n",
       "HoursPerWeek     56  0.016888"
      ]
     },
     "execution_count": 193,
     "metadata": {},
     "output_type": "execute_result"
    }
   ],
   "source": [
    "total = Miss_Handle_df.isnull().sum()\n",
    "Prob = total/Miss_Handle_df.isnull().count()\n",
    "NAs = pd.concat([total,Prob],axis=1,keys=('Total','Prob'))\n",
    "NAs[NAs.Total>0].sort_values(by='Total',ascending=False)"
   ]
  },
  {
   "cell_type": "markdown",
   "id": "d9201493",
   "metadata": {},
   "source": [
    "## Missing : HoursPerWeek"
   ]
  },
  {
   "cell_type": "code",
   "execution_count": 194,
   "id": "f58efc6d",
   "metadata": {},
   "outputs": [
    {
     "data": {
      "text/html": [
       "<div>\n",
       "<style scoped>\n",
       "    .dataframe tbody tr th:only-of-type {\n",
       "        vertical-align: middle;\n",
       "    }\n",
       "\n",
       "    .dataframe tbody tr th {\n",
       "        vertical-align: top;\n",
       "    }\n",
       "\n",
       "    .dataframe thead th {\n",
       "        text-align: right;\n",
       "    }\n",
       "</style>\n",
       "<table border=\"1\" class=\"dataframe\">\n",
       "  <thead>\n",
       "    <tr style=\"text-align: right;\">\n",
       "      <th></th>\n",
       "      <th>HoursPerWeek</th>\n",
       "      <th>TotalHours</th>\n",
       "      <th>APM</th>\n",
       "      <th>AssignToHotkeys</th>\n",
       "      <th>UniqueHotkeys</th>\n",
       "      <th>MinimapAttacks</th>\n",
       "      <th>MinimapRightClicks</th>\n",
       "      <th>GapBetweenPACs</th>\n",
       "      <th>ActionLatency</th>\n",
       "      <th>ActionsInPAC</th>\n",
       "      <th>TotalMapExplored</th>\n",
       "      <th>WorkersMade</th>\n",
       "      <th>UniqueUnitsMade</th>\n",
       "      <th>ComplexUnitsMade</th>\n",
       "      <th>ComplexAbilityUsed</th>\n",
       "      <th>MaxTimeStamp</th>\n",
       "      <th>LeagueLevel</th>\n",
       "      <th>PlayTime</th>\n",
       "    </tr>\n",
       "    <tr>\n",
       "      <th>LeagueIndex</th>\n",
       "      <th></th>\n",
       "      <th></th>\n",
       "      <th></th>\n",
       "      <th></th>\n",
       "      <th></th>\n",
       "      <th></th>\n",
       "      <th></th>\n",
       "      <th></th>\n",
       "      <th></th>\n",
       "      <th></th>\n",
       "      <th></th>\n",
       "      <th></th>\n",
       "      <th></th>\n",
       "      <th></th>\n",
       "      <th></th>\n",
       "      <th></th>\n",
       "      <th></th>\n",
       "      <th></th>\n",
       "    </tr>\n",
       "  </thead>\n",
       "  <tbody>\n",
       "    <tr>\n",
       "      <th>1</th>\n",
       "      <td>163</td>\n",
       "      <td>163</td>\n",
       "      <td>163</td>\n",
       "      <td>163</td>\n",
       "      <td>163</td>\n",
       "      <td>163</td>\n",
       "      <td>163</td>\n",
       "      <td>163</td>\n",
       "      <td>163</td>\n",
       "      <td>163</td>\n",
       "      <td>163</td>\n",
       "      <td>163</td>\n",
       "      <td>163</td>\n",
       "      <td>163</td>\n",
       "      <td>163</td>\n",
       "      <td>163</td>\n",
       "      <td>163</td>\n",
       "      <td>163</td>\n",
       "    </tr>\n",
       "    <tr>\n",
       "      <th>2</th>\n",
       "      <td>334</td>\n",
       "      <td>334</td>\n",
       "      <td>334</td>\n",
       "      <td>334</td>\n",
       "      <td>334</td>\n",
       "      <td>334</td>\n",
       "      <td>334</td>\n",
       "      <td>334</td>\n",
       "      <td>334</td>\n",
       "      <td>334</td>\n",
       "      <td>334</td>\n",
       "      <td>334</td>\n",
       "      <td>334</td>\n",
       "      <td>334</td>\n",
       "      <td>334</td>\n",
       "      <td>334</td>\n",
       "      <td>334</td>\n",
       "      <td>334</td>\n",
       "    </tr>\n",
       "    <tr>\n",
       "      <th>3</th>\n",
       "      <td>532</td>\n",
       "      <td>532</td>\n",
       "      <td>532</td>\n",
       "      <td>532</td>\n",
       "      <td>532</td>\n",
       "      <td>532</td>\n",
       "      <td>532</td>\n",
       "      <td>532</td>\n",
       "      <td>532</td>\n",
       "      <td>532</td>\n",
       "      <td>532</td>\n",
       "      <td>532</td>\n",
       "      <td>532</td>\n",
       "      <td>532</td>\n",
       "      <td>532</td>\n",
       "      <td>532</td>\n",
       "      <td>532</td>\n",
       "      <td>532</td>\n",
       "    </tr>\n",
       "    <tr>\n",
       "      <th>4</th>\n",
       "      <td>798</td>\n",
       "      <td>798</td>\n",
       "      <td>798</td>\n",
       "      <td>798</td>\n",
       "      <td>798</td>\n",
       "      <td>798</td>\n",
       "      <td>798</td>\n",
       "      <td>798</td>\n",
       "      <td>798</td>\n",
       "      <td>798</td>\n",
       "      <td>798</td>\n",
       "      <td>798</td>\n",
       "      <td>798</td>\n",
       "      <td>798</td>\n",
       "      <td>798</td>\n",
       "      <td>798</td>\n",
       "      <td>798</td>\n",
       "      <td>798</td>\n",
       "    </tr>\n",
       "    <tr>\n",
       "      <th>5</th>\n",
       "      <td>782</td>\n",
       "      <td>781</td>\n",
       "      <td>783</td>\n",
       "      <td>783</td>\n",
       "      <td>783</td>\n",
       "      <td>783</td>\n",
       "      <td>783</td>\n",
       "      <td>783</td>\n",
       "      <td>783</td>\n",
       "      <td>783</td>\n",
       "      <td>783</td>\n",
       "      <td>783</td>\n",
       "      <td>783</td>\n",
       "      <td>783</td>\n",
       "      <td>783</td>\n",
       "      <td>783</td>\n",
       "      <td>783</td>\n",
       "      <td>783</td>\n",
       "    </tr>\n",
       "    <tr>\n",
       "      <th>6</th>\n",
       "      <td>616</td>\n",
       "      <td>616</td>\n",
       "      <td>616</td>\n",
       "      <td>616</td>\n",
       "      <td>616</td>\n",
       "      <td>616</td>\n",
       "      <td>616</td>\n",
       "      <td>616</td>\n",
       "      <td>616</td>\n",
       "      <td>616</td>\n",
       "      <td>616</td>\n",
       "      <td>616</td>\n",
       "      <td>616</td>\n",
       "      <td>616</td>\n",
       "      <td>616</td>\n",
       "      <td>616</td>\n",
       "      <td>616</td>\n",
       "      <td>616</td>\n",
       "    </tr>\n",
       "    <tr>\n",
       "      <th>7</th>\n",
       "      <td>35</td>\n",
       "      <td>35</td>\n",
       "      <td>35</td>\n",
       "      <td>35</td>\n",
       "      <td>35</td>\n",
       "      <td>35</td>\n",
       "      <td>35</td>\n",
       "      <td>35</td>\n",
       "      <td>35</td>\n",
       "      <td>35</td>\n",
       "      <td>35</td>\n",
       "      <td>35</td>\n",
       "      <td>35</td>\n",
       "      <td>35</td>\n",
       "      <td>35</td>\n",
       "      <td>35</td>\n",
       "      <td>35</td>\n",
       "      <td>35</td>\n",
       "    </tr>\n",
       "    <tr>\n",
       "      <th>8</th>\n",
       "      <td>0</td>\n",
       "      <td>0</td>\n",
       "      <td>55</td>\n",
       "      <td>55</td>\n",
       "      <td>55</td>\n",
       "      <td>55</td>\n",
       "      <td>55</td>\n",
       "      <td>55</td>\n",
       "      <td>55</td>\n",
       "      <td>55</td>\n",
       "      <td>55</td>\n",
       "      <td>55</td>\n",
       "      <td>55</td>\n",
       "      <td>55</td>\n",
       "      <td>55</td>\n",
       "      <td>55</td>\n",
       "      <td>55</td>\n",
       "      <td>55</td>\n",
       "    </tr>\n",
       "  </tbody>\n",
       "</table>\n",
       "</div>"
      ],
      "text/plain": [
       "             HoursPerWeek  TotalHours  APM  AssignToHotkeys  UniqueHotkeys  \\\n",
       "LeagueIndex                                                                  \n",
       "1                     163         163  163              163            163   \n",
       "2                     334         334  334              334            334   \n",
       "3                     532         532  532              532            532   \n",
       "4                     798         798  798              798            798   \n",
       "5                     782         781  783              783            783   \n",
       "6                     616         616  616              616            616   \n",
       "7                      35          35   35               35             35   \n",
       "8                       0           0   55               55             55   \n",
       "\n",
       "             MinimapAttacks  MinimapRightClicks  GapBetweenPACs  \\\n",
       "LeagueIndex                                                       \n",
       "1                       163                 163             163   \n",
       "2                       334                 334             334   \n",
       "3                       532                 532             532   \n",
       "4                       798                 798             798   \n",
       "5                       783                 783             783   \n",
       "6                       616                 616             616   \n",
       "7                        35                  35              35   \n",
       "8                        55                  55              55   \n",
       "\n",
       "             ActionLatency  ActionsInPAC  TotalMapExplored  WorkersMade  \\\n",
       "LeagueIndex                                                               \n",
       "1                      163           163               163          163   \n",
       "2                      334           334               334          334   \n",
       "3                      532           532               532          532   \n",
       "4                      798           798               798          798   \n",
       "5                      783           783               783          783   \n",
       "6                      616           616               616          616   \n",
       "7                       35            35                35           35   \n",
       "8                       55            55                55           55   \n",
       "\n",
       "             UniqueUnitsMade  ComplexUnitsMade  ComplexAbilityUsed  \\\n",
       "LeagueIndex                                                          \n",
       "1                        163               163                 163   \n",
       "2                        334               334                 334   \n",
       "3                        532               532                 532   \n",
       "4                        798               798                 798   \n",
       "5                        783               783                 783   \n",
       "6                        616               616                 616   \n",
       "7                         35                35                  35   \n",
       "8                         55                55                  55   \n",
       "\n",
       "             MaxTimeStamp  LeagueLevel  PlayTime  \n",
       "LeagueIndex                                       \n",
       "1                     163          163       163  \n",
       "2                     334          334       334  \n",
       "3                     532          532       532  \n",
       "4                     798          798       798  \n",
       "5                     783          783       783  \n",
       "6                     616          616       616  \n",
       "7                      35           35        35  \n",
       "8                      55           55        55  "
      ]
     },
     "execution_count": 194,
     "metadata": {},
     "output_type": "execute_result"
    }
   ],
   "source": [
    "# LeagueIndex 별로 결측치가 몇 개 있는지 확인해보자\n",
    "Miss_Handle_df.groupby('LeagueIndex').count()"
   ]
  },
  {
   "cell_type": "code",
   "execution_count": 195,
   "id": "7bbc2752",
   "metadata": {},
   "outputs": [],
   "source": [
    "# HoursPerWeek의 결측치는 LeagueIndex 5 및 LeagueIndex 8\n",
    "# LeagueIndex 5 : 다이아 구간, 수준 1\n",
    "# LeagueIndex 8 : 프로 구간, 수준 2\n",
    "# 따라서 LeagueIndex 5에서의 HoursPerWeek의 결측값은 평균으로 대체\n",
    "# 따라서 LeagueIndex 7에서의 HoursPerWeek의 결측값은 평균으로 대체"
   ]
  },
  {
   "cell_type": "code",
   "execution_count": 196,
   "id": "3872a473",
   "metadata": {},
   "outputs": [],
   "source": [
    "HoursPerWeek_ls_5 = Miss_Handle_df[(Miss_Handle_df['HoursPerWeek'].isna()) & (Miss_Handle_df['LeagueIndex'] == 5)]"
   ]
  },
  {
   "cell_type": "code",
   "execution_count": 197,
   "id": "04c7c37b",
   "metadata": {},
   "outputs": [
    {
     "data": {
      "text/plain": [
       "Int64Index([1841], dtype='int64')"
      ]
     },
     "execution_count": 197,
     "metadata": {},
     "output_type": "execute_result"
    }
   ],
   "source": [
    "HoursPerWeek_ls_5.index"
   ]
  },
  {
   "cell_type": "code",
   "execution_count": 198,
   "id": "068e0620",
   "metadata": {},
   "outputs": [
    {
     "data": {
      "text/plain": [
       "15.73913043478261"
      ]
     },
     "execution_count": 198,
     "metadata": {},
     "output_type": "execute_result"
    }
   ],
   "source": [
    "train_df.groupby(train_df.LeagueIndex).HoursPerWeek.mean()[5]"
   ]
  },
  {
   "cell_type": "code",
   "execution_count": 199,
   "id": "746d3c7d",
   "metadata": {},
   "outputs": [],
   "source": [
    "Miss_Handle_df.loc[HoursPerWeek_ls_5.index, 'HoursPerWeek'] = train_df.groupby(train_df.LeagueIndex).HoursPerWeek.mean()[5]"
   ]
  },
  {
   "cell_type": "code",
   "execution_count": 200,
   "id": "3f91258e",
   "metadata": {},
   "outputs": [],
   "source": [
    "HoursPerWeek_ls_6 = Miss_Handle_df[(Miss_Handle_df['HoursPerWeek'].isna()) & (Miss_Handle_df['LeagueIndex'] == 8)]"
   ]
  },
  {
   "cell_type": "code",
   "execution_count": 201,
   "id": "2c650bea",
   "metadata": {},
   "outputs": [
    {
     "data": {
      "text/plain": [
       "Int64Index([3340, 3341, 3342, 3343, 3344, 3345, 3346, 3347, 3348, 3349, 3350,\n",
       "            3351, 3352, 3353, 3354, 3355, 3356, 3357, 3358, 3359, 3360, 3361,\n",
       "            3362, 3363, 3364, 3365, 3366, 3367, 3368, 3369, 3370, 3371, 3372,\n",
       "            3373, 3374, 3375, 3376, 3377, 3378, 3379, 3380, 3381, 3382, 3383,\n",
       "            3384, 3385, 3386, 3387, 3388, 3389, 3390, 3391, 3392, 3393, 3394],\n",
       "           dtype='int64')"
      ]
     },
     "execution_count": 201,
     "metadata": {},
     "output_type": "execute_result"
    }
   ],
   "source": [
    "HoursPerWeek_ls_6.index"
   ]
  },
  {
   "cell_type": "code",
   "execution_count": 202,
   "id": "73f77a84",
   "metadata": {},
   "outputs": [
    {
     "data": {
      "text/plain": [
       "31.714285714285715"
      ]
     },
     "execution_count": 202,
     "metadata": {},
     "output_type": "execute_result"
    }
   ],
   "source": [
    "train_df.groupby(train_df.LeagueIndex).HoursPerWeek.mean()[7]"
   ]
  },
  {
   "cell_type": "code",
   "execution_count": 203,
   "id": "657180e9",
   "metadata": {},
   "outputs": [
    {
     "data": {
      "text/plain": [
       "98.0"
      ]
     },
     "execution_count": 203,
     "metadata": {},
     "output_type": "execute_result"
    }
   ],
   "source": [
    "train_df[train_df.LeagueIndex == 7].HoursPerWeek.max()"
   ]
  },
  {
   "cell_type": "code",
   "execution_count": 204,
   "id": "555ca783",
   "metadata": {},
   "outputs": [],
   "source": [
    "Miss_Handle_df.loc[HoursPerWeek_ls_6.index, 'HoursPerWeek'] = train_df[train_df.LeagueIndex == 7].HoursPerWeek.max()"
   ]
  },
  {
   "cell_type": "code",
   "execution_count": 205,
   "id": "b96829cc",
   "metadata": {},
   "outputs": [
    {
     "data": {
      "text/plain": [
       "0"
      ]
     },
     "execution_count": 205,
     "metadata": {},
     "output_type": "execute_result"
    }
   ],
   "source": [
    "# 결측치 대체\n",
    "Miss_Handle_df.HoursPerWeek.isna().sum()"
   ]
  },
  {
   "cell_type": "markdown",
   "id": "938a354e",
   "metadata": {},
   "source": [
    "## Missing : TotalHours"
   ]
  },
  {
   "cell_type": "code",
   "execution_count": 206,
   "id": "f69a7877",
   "metadata": {},
   "outputs": [
    {
     "data": {
      "text/html": [
       "<div>\n",
       "<style scoped>\n",
       "    .dataframe tbody tr th:only-of-type {\n",
       "        vertical-align: middle;\n",
       "    }\n",
       "\n",
       "    .dataframe tbody tr th {\n",
       "        vertical-align: top;\n",
       "    }\n",
       "\n",
       "    .dataframe thead th {\n",
       "        text-align: right;\n",
       "    }\n",
       "</style>\n",
       "<table border=\"1\" class=\"dataframe\">\n",
       "  <thead>\n",
       "    <tr style=\"text-align: right;\">\n",
       "      <th></th>\n",
       "      <th>HoursPerWeek</th>\n",
       "      <th>TotalHours</th>\n",
       "      <th>APM</th>\n",
       "      <th>AssignToHotkeys</th>\n",
       "      <th>UniqueHotkeys</th>\n",
       "      <th>MinimapAttacks</th>\n",
       "      <th>MinimapRightClicks</th>\n",
       "      <th>GapBetweenPACs</th>\n",
       "      <th>ActionLatency</th>\n",
       "      <th>ActionsInPAC</th>\n",
       "      <th>TotalMapExplored</th>\n",
       "      <th>WorkersMade</th>\n",
       "      <th>UniqueUnitsMade</th>\n",
       "      <th>ComplexUnitsMade</th>\n",
       "      <th>ComplexAbilityUsed</th>\n",
       "      <th>MaxTimeStamp</th>\n",
       "      <th>LeagueLevel</th>\n",
       "      <th>PlayTime</th>\n",
       "    </tr>\n",
       "    <tr>\n",
       "      <th>LeagueIndex</th>\n",
       "      <th></th>\n",
       "      <th></th>\n",
       "      <th></th>\n",
       "      <th></th>\n",
       "      <th></th>\n",
       "      <th></th>\n",
       "      <th></th>\n",
       "      <th></th>\n",
       "      <th></th>\n",
       "      <th></th>\n",
       "      <th></th>\n",
       "      <th></th>\n",
       "      <th></th>\n",
       "      <th></th>\n",
       "      <th></th>\n",
       "      <th></th>\n",
       "      <th></th>\n",
       "      <th></th>\n",
       "    </tr>\n",
       "  </thead>\n",
       "  <tbody>\n",
       "    <tr>\n",
       "      <th>1</th>\n",
       "      <td>163</td>\n",
       "      <td>163</td>\n",
       "      <td>163</td>\n",
       "      <td>163</td>\n",
       "      <td>163</td>\n",
       "      <td>163</td>\n",
       "      <td>163</td>\n",
       "      <td>163</td>\n",
       "      <td>163</td>\n",
       "      <td>163</td>\n",
       "      <td>163</td>\n",
       "      <td>163</td>\n",
       "      <td>163</td>\n",
       "      <td>163</td>\n",
       "      <td>163</td>\n",
       "      <td>163</td>\n",
       "      <td>163</td>\n",
       "      <td>163</td>\n",
       "    </tr>\n",
       "    <tr>\n",
       "      <th>2</th>\n",
       "      <td>334</td>\n",
       "      <td>334</td>\n",
       "      <td>334</td>\n",
       "      <td>334</td>\n",
       "      <td>334</td>\n",
       "      <td>334</td>\n",
       "      <td>334</td>\n",
       "      <td>334</td>\n",
       "      <td>334</td>\n",
       "      <td>334</td>\n",
       "      <td>334</td>\n",
       "      <td>334</td>\n",
       "      <td>334</td>\n",
       "      <td>334</td>\n",
       "      <td>334</td>\n",
       "      <td>334</td>\n",
       "      <td>334</td>\n",
       "      <td>334</td>\n",
       "    </tr>\n",
       "    <tr>\n",
       "      <th>3</th>\n",
       "      <td>532</td>\n",
       "      <td>532</td>\n",
       "      <td>532</td>\n",
       "      <td>532</td>\n",
       "      <td>532</td>\n",
       "      <td>532</td>\n",
       "      <td>532</td>\n",
       "      <td>532</td>\n",
       "      <td>532</td>\n",
       "      <td>532</td>\n",
       "      <td>532</td>\n",
       "      <td>532</td>\n",
       "      <td>532</td>\n",
       "      <td>532</td>\n",
       "      <td>532</td>\n",
       "      <td>532</td>\n",
       "      <td>532</td>\n",
       "      <td>532</td>\n",
       "    </tr>\n",
       "    <tr>\n",
       "      <th>4</th>\n",
       "      <td>798</td>\n",
       "      <td>798</td>\n",
       "      <td>798</td>\n",
       "      <td>798</td>\n",
       "      <td>798</td>\n",
       "      <td>798</td>\n",
       "      <td>798</td>\n",
       "      <td>798</td>\n",
       "      <td>798</td>\n",
       "      <td>798</td>\n",
       "      <td>798</td>\n",
       "      <td>798</td>\n",
       "      <td>798</td>\n",
       "      <td>798</td>\n",
       "      <td>798</td>\n",
       "      <td>798</td>\n",
       "      <td>798</td>\n",
       "      <td>798</td>\n",
       "    </tr>\n",
       "    <tr>\n",
       "      <th>5</th>\n",
       "      <td>783</td>\n",
       "      <td>781</td>\n",
       "      <td>783</td>\n",
       "      <td>783</td>\n",
       "      <td>783</td>\n",
       "      <td>783</td>\n",
       "      <td>783</td>\n",
       "      <td>783</td>\n",
       "      <td>783</td>\n",
       "      <td>783</td>\n",
       "      <td>783</td>\n",
       "      <td>783</td>\n",
       "      <td>783</td>\n",
       "      <td>783</td>\n",
       "      <td>783</td>\n",
       "      <td>783</td>\n",
       "      <td>783</td>\n",
       "      <td>783</td>\n",
       "    </tr>\n",
       "    <tr>\n",
       "      <th>6</th>\n",
       "      <td>616</td>\n",
       "      <td>616</td>\n",
       "      <td>616</td>\n",
       "      <td>616</td>\n",
       "      <td>616</td>\n",
       "      <td>616</td>\n",
       "      <td>616</td>\n",
       "      <td>616</td>\n",
       "      <td>616</td>\n",
       "      <td>616</td>\n",
       "      <td>616</td>\n",
       "      <td>616</td>\n",
       "      <td>616</td>\n",
       "      <td>616</td>\n",
       "      <td>616</td>\n",
       "      <td>616</td>\n",
       "      <td>616</td>\n",
       "      <td>616</td>\n",
       "    </tr>\n",
       "    <tr>\n",
       "      <th>7</th>\n",
       "      <td>35</td>\n",
       "      <td>35</td>\n",
       "      <td>35</td>\n",
       "      <td>35</td>\n",
       "      <td>35</td>\n",
       "      <td>35</td>\n",
       "      <td>35</td>\n",
       "      <td>35</td>\n",
       "      <td>35</td>\n",
       "      <td>35</td>\n",
       "      <td>35</td>\n",
       "      <td>35</td>\n",
       "      <td>35</td>\n",
       "      <td>35</td>\n",
       "      <td>35</td>\n",
       "      <td>35</td>\n",
       "      <td>35</td>\n",
       "      <td>35</td>\n",
       "    </tr>\n",
       "    <tr>\n",
       "      <th>8</th>\n",
       "      <td>55</td>\n",
       "      <td>0</td>\n",
       "      <td>55</td>\n",
       "      <td>55</td>\n",
       "      <td>55</td>\n",
       "      <td>55</td>\n",
       "      <td>55</td>\n",
       "      <td>55</td>\n",
       "      <td>55</td>\n",
       "      <td>55</td>\n",
       "      <td>55</td>\n",
       "      <td>55</td>\n",
       "      <td>55</td>\n",
       "      <td>55</td>\n",
       "      <td>55</td>\n",
       "      <td>55</td>\n",
       "      <td>55</td>\n",
       "      <td>55</td>\n",
       "    </tr>\n",
       "  </tbody>\n",
       "</table>\n",
       "</div>"
      ],
      "text/plain": [
       "             HoursPerWeek  TotalHours  APM  AssignToHotkeys  UniqueHotkeys  \\\n",
       "LeagueIndex                                                                  \n",
       "1                     163         163  163              163            163   \n",
       "2                     334         334  334              334            334   \n",
       "3                     532         532  532              532            532   \n",
       "4                     798         798  798              798            798   \n",
       "5                     783         781  783              783            783   \n",
       "6                     616         616  616              616            616   \n",
       "7                      35          35   35               35             35   \n",
       "8                      55           0   55               55             55   \n",
       "\n",
       "             MinimapAttacks  MinimapRightClicks  GapBetweenPACs  \\\n",
       "LeagueIndex                                                       \n",
       "1                       163                 163             163   \n",
       "2                       334                 334             334   \n",
       "3                       532                 532             532   \n",
       "4                       798                 798             798   \n",
       "5                       783                 783             783   \n",
       "6                       616                 616             616   \n",
       "7                        35                  35              35   \n",
       "8                        55                  55              55   \n",
       "\n",
       "             ActionLatency  ActionsInPAC  TotalMapExplored  WorkersMade  \\\n",
       "LeagueIndex                                                               \n",
       "1                      163           163               163          163   \n",
       "2                      334           334               334          334   \n",
       "3                      532           532               532          532   \n",
       "4                      798           798               798          798   \n",
       "5                      783           783               783          783   \n",
       "6                      616           616               616          616   \n",
       "7                       35            35                35           35   \n",
       "8                       55            55                55           55   \n",
       "\n",
       "             UniqueUnitsMade  ComplexUnitsMade  ComplexAbilityUsed  \\\n",
       "LeagueIndex                                                          \n",
       "1                        163               163                 163   \n",
       "2                        334               334                 334   \n",
       "3                        532               532                 532   \n",
       "4                        798               798                 798   \n",
       "5                        783               783                 783   \n",
       "6                        616               616                 616   \n",
       "7                         35                35                  35   \n",
       "8                         55                55                  55   \n",
       "\n",
       "             MaxTimeStamp  LeagueLevel  PlayTime  \n",
       "LeagueIndex                                       \n",
       "1                     163          163       163  \n",
       "2                     334          334       334  \n",
       "3                     532          532       532  \n",
       "4                     798          798       798  \n",
       "5                     783          783       783  \n",
       "6                     616          616       616  \n",
       "7                      35           35        35  \n",
       "8                      55           55        55  "
      ]
     },
     "execution_count": 206,
     "metadata": {},
     "output_type": "execute_result"
    }
   ],
   "source": [
    "# LeagueIndex 별로 결측치가 몇 개 있는지 확인해보자\n",
    "Miss_Handle_df.groupby('LeagueIndex').count()"
   ]
  },
  {
   "cell_type": "code",
   "execution_count": 207,
   "id": "ac18e253",
   "metadata": {},
   "outputs": [],
   "source": [
    "TotalHours_ls_5 = Miss_Handle_df[(Miss_Handle_df['TotalHours'].isna()) & (Miss_Handle_df['LeagueIndex'] == 5)]"
   ]
  },
  {
   "cell_type": "code",
   "execution_count": 208,
   "id": "abacb544",
   "metadata": {},
   "outputs": [
    {
     "data": {
      "text/plain": [
       "Int64Index([358, 1841], dtype='int64')"
      ]
     },
     "execution_count": 208,
     "metadata": {},
     "output_type": "execute_result"
    }
   ],
   "source": [
    "TotalHours_ls_5.index"
   ]
  },
  {
   "cell_type": "code",
   "execution_count": 209,
   "id": "e327186d",
   "metadata": {},
   "outputs": [],
   "source": [
    "Miss_Handle_df.loc[TotalHours_ls_5.index, 'TotalHours'] = train_df.groupby(train_df.LeagueIndex).TotalHours.mean()[5]"
   ]
  },
  {
   "cell_type": "code",
   "execution_count": 210,
   "id": "66da3247",
   "metadata": {},
   "outputs": [],
   "source": [
    "TotalHours_ls_6 = Miss_Handle_df[(Miss_Handle_df['TotalHours'].isna()) & (Miss_Handle_df['LeagueIndex'] == 8)]"
   ]
  },
  {
   "cell_type": "code",
   "execution_count": 211,
   "id": "c3b3e0f5",
   "metadata": {},
   "outputs": [
    {
     "data": {
      "text/plain": [
       "Int64Index([3340, 3341, 3342, 3343, 3344, 3345, 3346, 3347, 3348, 3349, 3350,\n",
       "            3351, 3352, 3353, 3354, 3355, 3356, 3357, 3358, 3359, 3360, 3361,\n",
       "            3362, 3363, 3364, 3365, 3366, 3367, 3368, 3369, 3370, 3371, 3372,\n",
       "            3373, 3374, 3375, 3376, 3377, 3378, 3379, 3380, 3381, 3382, 3383,\n",
       "            3384, 3385, 3386, 3387, 3388, 3389, 3390, 3391, 3392, 3393, 3394],\n",
       "           dtype='int64')"
      ]
     },
     "execution_count": 211,
     "metadata": {},
     "output_type": "execute_result"
    }
   ],
   "source": [
    "TotalHours_ls_6.index"
   ]
  },
  {
   "cell_type": "code",
   "execution_count": 212,
   "id": "5cb2080d",
   "metadata": {},
   "outputs": [
    {
     "data": {
      "text/plain": [
       "10000.0"
      ]
     },
     "execution_count": 212,
     "metadata": {},
     "output_type": "execute_result"
    }
   ],
   "source": [
    "train_df[train_df.LeagueIndex == 7].TotalHours.max()"
   ]
  },
  {
   "cell_type": "code",
   "execution_count": 213,
   "id": "07197396",
   "metadata": {},
   "outputs": [],
   "source": [
    "Miss_Handle_df.loc[TotalHours_ls_6.index, 'TotalHours'] = train_df[train_df.LeagueIndex == 7].HoursPerWeek.max()"
   ]
  },
  {
   "cell_type": "code",
   "execution_count": 214,
   "id": "040c820d",
   "metadata": {},
   "outputs": [
    {
     "data": {
      "text/plain": [
       "0"
      ]
     },
     "execution_count": 214,
     "metadata": {},
     "output_type": "execute_result"
    }
   ],
   "source": [
    "# 결측치 대체\n",
    "Miss_Handle_df.TotalHours.isna().sum()"
   ]
  },
  {
   "cell_type": "markdown",
   "id": "91950a0c",
   "metadata": {},
   "source": [
    "# Variable Selection"
   ]
  },
  {
   "cell_type": "code",
   "execution_count": 215,
   "id": "e2760652",
   "metadata": {},
   "outputs": [],
   "source": [
    "# TotalHours 제거 및 LeagueIndex(더 이상 필요없음)\n",
    "Miss_Handle_df.drop(['LeagueIndex', 'MaxTimeStamp'], axis = 1, inplace=True)"
   ]
  },
  {
   "cell_type": "code",
   "execution_count": 216,
   "id": "5cdb16ec",
   "metadata": {
    "scrolled": false
   },
   "outputs": [
    {
     "name": "stdout",
     "output_type": "stream",
     "text": [
      "<class 'pandas.core.frame.DataFrame'>\n",
      "Int64Index: 3316 entries, 0 to 3394\n",
      "Data columns (total 17 columns):\n",
      " #   Column              Non-Null Count  Dtype  \n",
      "---  ------              --------------  -----  \n",
      " 0   HoursPerWeek        3316 non-null   float64\n",
      " 1   TotalHours          3316 non-null   float64\n",
      " 2   APM                 3316 non-null   float64\n",
      " 3   AssignToHotkeys     3316 non-null   float64\n",
      " 4   UniqueHotkeys       3316 non-null   float64\n",
      " 5   MinimapAttacks      3316 non-null   float64\n",
      " 6   MinimapRightClicks  3316 non-null   float64\n",
      " 7   GapBetweenPACs      3316 non-null   float64\n",
      " 8   ActionLatency       3316 non-null   float64\n",
      " 9   ActionsInPAC        3316 non-null   float64\n",
      " 10  TotalMapExplored    3316 non-null   float64\n",
      " 11  WorkersMade         3316 non-null   float64\n",
      " 12  UniqueUnitsMade     3316 non-null   float64\n",
      " 13  ComplexUnitsMade    3316 non-null   float64\n",
      " 14  ComplexAbilityUsed  3316 non-null   float64\n",
      " 15  LeagueLevel         3316 non-null   int64  \n",
      " 16  PlayTime            3316 non-null   float64\n",
      "dtypes: float64(16), int64(1)\n",
      "memory usage: 595.4 KB\n"
     ]
    }
   ],
   "source": [
    "Miss_Handle_df.info()"
   ]
  },
  {
   "cell_type": "markdown",
   "id": "6671b1d8",
   "metadata": {},
   "source": [
    "# Feature Engineering"
   ]
  },
  {
   "cell_type": "markdown",
   "id": "f8d03116",
   "metadata": {},
   "source": [
    "## APM"
   ]
  },
  {
   "cell_type": "code",
   "execution_count": 217,
   "id": "92625f07",
   "metadata": {},
   "outputs": [],
   "source": [
    "# APM\n",
    "# 1. 0, .15, .30, .45, .60, .75, .90, .95, 1"
   ]
  },
  {
   "cell_type": "code",
   "execution_count": 218,
   "id": "7afe0ccc",
   "metadata": {
    "scrolled": true
   },
   "outputs": [
    {
     "data": {
      "text/plain": [
       "CategoricalDtype(categories=[(22.058999999999997, 67.397], (67.397, 86.03], (86.03, 102.583], (102.583, 120.432], (120.432, 142.474], (142.474, 184.426], (184.426, 211.764], (211.764, 389.831]], ordered=True)"
      ]
     },
     "execution_count": 218,
     "metadata": {},
     "output_type": "execute_result"
    }
   ],
   "source": [
    "Miss_Handle_df['APM_BAND'] = pd.qcut(Miss_Handle_df.APM, [0, .15, .3, .45, .60, .75, .90, .95, 1])\n",
    "Miss_Handle_df['APM_BAND'].dtype"
   ]
  },
  {
   "cell_type": "code",
   "execution_count": 219,
   "id": "9e7c017e",
   "metadata": {},
   "outputs": [],
   "source": [
    "Miss_Handle_df.loc[(Miss_Handle_df['APM']>20) & (Miss_Handle_df['APM']<=67.397),'APM_Bin'] = 'Level_0'\n",
    "Miss_Handle_df.loc[(Miss_Handle_df['APM']>67.397) & (Miss_Handle_df['APM']<=86.03),'APM_Bin'] = 'Level_1'\n",
    "Miss_Handle_df.loc[(Miss_Handle_df['APM']>86.03) & (Miss_Handle_df['APM']<=102.583),'APM_Bin'] = 'Level_2'\n",
    "Miss_Handle_df.loc[(Miss_Handle_df['APM']>102.583) & (Miss_Handle_df['APM']<=120.432),'APM_Bin'] = 'Level_3'\n",
    "Miss_Handle_df.loc[(Miss_Handle_df['APM']>120.432) & (Miss_Handle_df['APM']<=142.474),'APM_Bin'] = 'Level_4'\n",
    "Miss_Handle_df.loc[(Miss_Handle_df['APM']>142.474) & (Miss_Handle_df['APM']<=184.426),'APM_Bin'] = 'Level_5'\n",
    "Miss_Handle_df.loc[(Miss_Handle_df['APM']>184.426) & (Miss_Handle_df['APM']<=211.764),'APM_Bin'] = 'Level_6'\n",
    "Miss_Handle_df.loc[(Miss_Handle_df['APM']>211.764) & (Miss_Handle_df['APM']<=400),'APM_Bin'] = 'Level_7'"
   ]
  },
  {
   "cell_type": "code",
   "execution_count": 220,
   "id": "25ba9014",
   "metadata": {},
   "outputs": [
    {
     "data": {
      "text/plain": [
       "0"
      ]
     },
     "execution_count": 220,
     "metadata": {},
     "output_type": "execute_result"
    }
   ],
   "source": [
    "# APM_Bin 결측치 확인\n",
    "Miss_Handle_df.APM_Bin.isna().sum()"
   ]
  },
  {
   "cell_type": "markdown",
   "id": "8ca185a5",
   "metadata": {},
   "source": [
    "## PlayTime"
   ]
  },
  {
   "cell_type": "code",
   "execution_count": 221,
   "id": "30a8fe5f",
   "metadata": {},
   "outputs": [
    {
     "data": {
      "text/plain": [
       "CategoricalDtype(categories=[(4.707, 19.204], (19.204, 33.658], (33.658, 48.112]], ordered=True)"
      ]
     },
     "execution_count": 221,
     "metadata": {},
     "output_type": "execute_result"
    }
   ],
   "source": [
    "Miss_Handle_df['PlayTime_BAND'] = pd.cut(Miss_Handle_df.PlayTime, 3)\n",
    "Miss_Handle_df['PlayTime_BAND'].dtype"
   ]
  },
  {
   "cell_type": "code",
   "execution_count": 222,
   "id": "b23e78b2",
   "metadata": {},
   "outputs": [],
   "source": [
    "Miss_Handle_df.loc[(Miss_Handle_df['PlayTime']>0) & (Miss_Handle_df['PlayTime']<=19.204),'PlayTime_Bin'] = 'Short'\n",
    "Miss_Handle_df.loc[(Miss_Handle_df['PlayTime']>19.204) & (Miss_Handle_df['PlayTime']<=33.658),'PlayTime_Bin'] = 'Mid'\n",
    "Miss_Handle_df.loc[(Miss_Handle_df['PlayTime']>33.658),'PlayTime_Bin'] = 'Long'"
   ]
  },
  {
   "cell_type": "code",
   "execution_count": 223,
   "id": "418a6868",
   "metadata": {},
   "outputs": [
    {
     "data": {
      "text/plain": [
       "0"
      ]
     },
     "execution_count": 223,
     "metadata": {},
     "output_type": "execute_result"
    }
   ],
   "source": [
    "# PlayTime_Bin 결측치 확인\n",
    "Miss_Handle_df.PlayTime_Bin.isna().sum()"
   ]
  },
  {
   "cell_type": "code",
   "execution_count": 224,
   "id": "c4e2058a",
   "metadata": {},
   "outputs": [
    {
     "name": "stdout",
     "output_type": "stream",
     "text": [
      "<class 'pandas.core.frame.DataFrame'>\n",
      "Int64Index: 3316 entries, 0 to 3394\n",
      "Data columns (total 21 columns):\n",
      " #   Column              Non-Null Count  Dtype   \n",
      "---  ------              --------------  -----   \n",
      " 0   HoursPerWeek        3316 non-null   float64 \n",
      " 1   TotalHours          3316 non-null   float64 \n",
      " 2   APM                 3316 non-null   float64 \n",
      " 3   AssignToHotkeys     3316 non-null   float64 \n",
      " 4   UniqueHotkeys       3316 non-null   float64 \n",
      " 5   MinimapAttacks      3316 non-null   float64 \n",
      " 6   MinimapRightClicks  3316 non-null   float64 \n",
      " 7   GapBetweenPACs      3316 non-null   float64 \n",
      " 8   ActionLatency       3316 non-null   float64 \n",
      " 9   ActionsInPAC        3316 non-null   float64 \n",
      " 10  TotalMapExplored    3316 non-null   float64 \n",
      " 11  WorkersMade         3316 non-null   float64 \n",
      " 12  UniqueUnitsMade     3316 non-null   float64 \n",
      " 13  ComplexUnitsMade    3316 non-null   float64 \n",
      " 14  ComplexAbilityUsed  3316 non-null   float64 \n",
      " 15  LeagueLevel         3316 non-null   int64   \n",
      " 16  PlayTime            3316 non-null   float64 \n",
      " 17  APM_BAND            3316 non-null   category\n",
      " 18  APM_Bin             3316 non-null   object  \n",
      " 19  PlayTime_BAND       3316 non-null   category\n",
      " 20  PlayTime_Bin        3316 non-null   object  \n",
      "dtypes: category(2), float64(16), int64(1), object(2)\n",
      "memory usage: 654.2+ KB\n"
     ]
    }
   ],
   "source": [
    "Miss_Handle_df.info()"
   ]
  },
  {
   "cell_type": "markdown",
   "id": "0089bbf4",
   "metadata": {},
   "source": [
    "## Feature Selection"
   ]
  },
  {
   "cell_type": "code",
   "execution_count": 225,
   "id": "bfe1c287",
   "metadata": {},
   "outputs": [],
   "source": [
    "Miss_Handle_df.drop(['APM',  'APM_BAND', 'PlayTime', 'PlayTime_BAND'], axis = 1, inplace=True)"
   ]
  },
  {
   "cell_type": "code",
   "execution_count": 226,
   "id": "d2da5ae2",
   "metadata": {},
   "outputs": [
    {
     "name": "stdout",
     "output_type": "stream",
     "text": [
      "<class 'pandas.core.frame.DataFrame'>\n",
      "Int64Index: 3316 entries, 0 to 3394\n",
      "Data columns (total 17 columns):\n",
      " #   Column              Non-Null Count  Dtype  \n",
      "---  ------              --------------  -----  \n",
      " 0   HoursPerWeek        3316 non-null   float64\n",
      " 1   TotalHours          3316 non-null   float64\n",
      " 2   AssignToHotkeys     3316 non-null   float64\n",
      " 3   UniqueHotkeys       3316 non-null   float64\n",
      " 4   MinimapAttacks      3316 non-null   float64\n",
      " 5   MinimapRightClicks  3316 non-null   float64\n",
      " 6   GapBetweenPACs      3316 non-null   float64\n",
      " 7   ActionLatency       3316 non-null   float64\n",
      " 8   ActionsInPAC        3316 non-null   float64\n",
      " 9   TotalMapExplored    3316 non-null   float64\n",
      " 10  WorkersMade         3316 non-null   float64\n",
      " 11  UniqueUnitsMade     3316 non-null   float64\n",
      " 12  ComplexUnitsMade    3316 non-null   float64\n",
      " 13  ComplexAbilityUsed  3316 non-null   float64\n",
      " 14  LeagueLevel         3316 non-null   int64  \n",
      " 15  APM_Bin             3316 non-null   object \n",
      " 16  PlayTime_Bin        3316 non-null   object \n",
      "dtypes: float64(14), int64(1), object(2)\n",
      "memory usage: 595.4+ KB\n"
     ]
    }
   ],
   "source": [
    "Miss_Handle_df.info()"
   ]
  },
  {
   "cell_type": "markdown",
   "id": "050ef587",
   "metadata": {},
   "source": [
    "# Assembling Final Datasets"
   ]
  },
  {
   "cell_type": "code",
   "execution_count": 227,
   "id": "29cdb0d8",
   "metadata": {},
   "outputs": [
    {
     "name": "stdout",
     "output_type": "stream",
     "text": [
      "There are 15 numeric features and 2 categorical features\n",
      "\n",
      "Numeric features:\n",
      " ['HoursPerWeek' 'TotalHours' 'AssignToHotkeys' 'UniqueHotkeys'\n",
      " 'MinimapAttacks' 'MinimapRightClicks' 'GapBetweenPACs' 'ActionLatency'\n",
      " 'ActionsInPAC' 'TotalMapExplored' 'WorkersMade' 'UniqueUnitsMade'\n",
      " 'ComplexUnitsMade' 'ComplexAbilityUsed' 'LeagueLevel']\n",
      "Categorical features:\n",
      " ['APM_Bin' 'PlayTime_Bin']\n"
     ]
    }
   ],
   "source": [
    "# Spilt numeric and categorical features\n",
    "obj_feats = Miss_Handle_df.select_dtypes(include=['object']).columns\n",
    "number_feats = Miss_Handle_df.select_dtypes(include=['float64','int64']).columns\n",
    "number_df = Miss_Handle_df[number_feats]\n",
    "obj_df = Miss_Handle_df[obj_feats]\n",
    "print('There are %d numeric features and %d categorical features\\n' %(len(number_feats),len(obj_feats)))\n",
    "print('Numeric features:\\n',number_feats.values)\n",
    "print('Categorical features:\\n',obj_feats.values)"
   ]
  },
  {
   "cell_type": "code",
   "execution_count": 228,
   "id": "57b6e11c",
   "metadata": {},
   "outputs": [],
   "source": [
    "# One hot encoding\n",
    "obj_df = pd.get_dummies(obj_df)"
   ]
  },
  {
   "cell_type": "code",
   "execution_count": 229,
   "id": "6f42d31f",
   "metadata": {},
   "outputs": [],
   "source": [
    "# Merge all features\n",
    "SkillCraft_df = pd.concat([number_df, obj_df],axis=1)"
   ]
  },
  {
   "cell_type": "code",
   "execution_count": 230,
   "id": "60338670",
   "metadata": {},
   "outputs": [
    {
     "name": "stdout",
     "output_type": "stream",
     "text": [
      "<class 'pandas.core.frame.DataFrame'>\n",
      "Int64Index: 3316 entries, 0 to 3394\n",
      "Data columns (total 26 columns):\n",
      " #   Column              Non-Null Count  Dtype  \n",
      "---  ------              --------------  -----  \n",
      " 0   HoursPerWeek        3316 non-null   float64\n",
      " 1   TotalHours          3316 non-null   float64\n",
      " 2   AssignToHotkeys     3316 non-null   float64\n",
      " 3   UniqueHotkeys       3316 non-null   float64\n",
      " 4   MinimapAttacks      3316 non-null   float64\n",
      " 5   MinimapRightClicks  3316 non-null   float64\n",
      " 6   GapBetweenPACs      3316 non-null   float64\n",
      " 7   ActionLatency       3316 non-null   float64\n",
      " 8   ActionsInPAC        3316 non-null   float64\n",
      " 9   TotalMapExplored    3316 non-null   float64\n",
      " 10  WorkersMade         3316 non-null   float64\n",
      " 11  UniqueUnitsMade     3316 non-null   float64\n",
      " 12  ComplexUnitsMade    3316 non-null   float64\n",
      " 13  ComplexAbilityUsed  3316 non-null   float64\n",
      " 14  LeagueLevel         3316 non-null   int64  \n",
      " 15  APM_Bin_Level_0     3316 non-null   uint8  \n",
      " 16  APM_Bin_Level_1     3316 non-null   uint8  \n",
      " 17  APM_Bin_Level_2     3316 non-null   uint8  \n",
      " 18  APM_Bin_Level_3     3316 non-null   uint8  \n",
      " 19  APM_Bin_Level_4     3316 non-null   uint8  \n",
      " 20  APM_Bin_Level_5     3316 non-null   uint8  \n",
      " 21  APM_Bin_Level_6     3316 non-null   uint8  \n",
      " 22  APM_Bin_Level_7     3316 non-null   uint8  \n",
      " 23  PlayTime_Bin_Long   3316 non-null   uint8  \n",
      " 24  PlayTime_Bin_Mid    3316 non-null   uint8  \n",
      " 25  PlayTime_Bin_Short  3316 non-null   uint8  \n",
      "dtypes: float64(14), int64(1), uint8(11)\n",
      "memory usage: 579.2 KB\n"
     ]
    }
   ],
   "source": [
    "SkillCraft_df.info()"
   ]
  },
  {
   "cell_type": "code",
   "execution_count": null,
   "id": "54972495",
   "metadata": {},
   "outputs": [],
   "source": []
  }
 ],
 "metadata": {
  "hide_input": false,
  "kernelspec": {
   "display_name": "Python 3 (ipykernel)",
   "language": "python",
   "name": "python3"
  },
  "language_info": {
   "codemirror_mode": {
    "name": "ipython",
    "version": 3
   },
   "file_extension": ".py",
   "mimetype": "text/x-python",
   "name": "python",
   "nbconvert_exporter": "python",
   "pygments_lexer": "ipython3",
   "version": "3.9.7"
  },
  "toc": {
   "base_numbering": 1,
   "nav_menu": {},
   "number_sections": true,
   "sideBar": true,
   "skip_h1_title": false,
   "title_cell": "Table of Contents",
   "title_sidebar": "Contents",
   "toc_cell": false,
   "toc_position": {},
   "toc_section_display": true,
   "toc_window_display": false
  }
 },
 "nbformat": 4,
 "nbformat_minor": 5
}
